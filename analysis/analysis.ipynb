{
 "cells": [
  {
   "cell_type": "markdown",
   "id": "79a7ad5e",
   "metadata": {},
   "source": [
    "Please use this notebook to perform any initial analyses and model testing!"
   ]
  }
 ],
 "metadata": {
  "language_info": {
   "name": "python"
  }
 },
 "nbformat": 4,
 "nbformat_minor": 5
}
